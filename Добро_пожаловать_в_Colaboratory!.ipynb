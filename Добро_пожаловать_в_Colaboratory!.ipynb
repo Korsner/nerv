{
  "cells": [
    {
      "cell_type": "markdown",
      "metadata": {
        "id": "view-in-github",
        "colab_type": "text"
      },
      "source": [
        "<a href=\"https://colab.research.google.com/github/Korsner/nerv/blob/main/%D0%94%D0%BE%D0%B1%D1%80%D0%BE_%D0%BF%D0%BE%D0%B6%D0%B0%D0%BB%D0%BE%D0%B2%D0%B0%D1%82%D1%8C_%D0%B2_Colaboratory!.ipynb\" target=\"_parent\"><img src=\"https://colab.research.google.com/assets/colab-badge.svg\" alt=\"Open In Colab\"/></a>"
      ]
    },
    {
      "cell_type": "markdown",
      "source": [
        "Загрузка данных, подготовка данных и разбиение на выборки для обучения и тестирования."
      ],
      "metadata": {
        "id": "Jm8Yv63IkkJZ"
      }
    },
    {
      "cell_type": "code",
      "source": [
        "import numpy as np\n",
        "import keras\n",
        "from keras import models\n",
        "from keras import layers\n",
        "from keras.datasets import reuters\n",
        "from keras.utils import np_utils, to_categorical\n",
        "\n",
        "(train_data, train_labels), (test_data, test_labels) = reuters.load_data(num_words=10000)\n",
        "\n",
        "print(\"train_data \", train_data.shape)\n",
        "print(\"train_labels \", train_labels.shape)\n",
        "print(\"test_data \", test_data.shape)\n",
        "print(\"test_labels \", test_labels.shape)\n",
        "\n",
        "word_index = reuters.get_word_index()\n",
        "reverse_word_index = dict([(value, key) for (key, value) in word_index.items()])\n",
        "decoded_newswire = ' '.join([reverse_word_index.get(i - 3, '?') for i in\n",
        "train_data[0]])\n",
        "print(decoded_newswire)\n",
        "print(train_labels[0])\n",
        "\n",
        "def vectorize_sequences(sequences, dimension=10000):\n",
        "    results = np.zeros((len(sequences), dimension))\n",
        "    for i, sequence in enumerate(sequences):\n",
        "        results[i, sequence] = 1.\n",
        "    return results\n",
        "\t\n",
        "x_train = vectorize_sequences(train_data)\n",
        "x_test = vectorize_sequences(test_data)\n",
        "print(\"x_train \", x_train.shape)\n",
        "print(\"x_test \", x_test.shape)\n",
        "\n",
        "one_hot_train_labels = to_categorical(train_labels)\n",
        "one_hot_test_labels = to_categorical(test_labels)\n",
        "print(\"one_hot_train_labels \", one_hot_train_labels.shape)\n",
        "print(\"one_hot_test_labels \", one_hot_test_labels.shape)\n",
        "\n",
        "x_val = x_train[:1000]\n",
        "partial_x_train = x_train[1000:]\n",
        "y_val = one_hot_train_labels[:1000]\n",
        "partial_y_train = one_hot_train_labels[1000:]\n",
        "print(\"x_val \", x_val.shape)\n",
        "print(\"y_val \", y_val.shape)\n",
        "print(\"partial_x_train \", partial_x_train.shape)\n",
        "print(\"partial_y_train \", partial_y_train.shape)"
      ],
      "metadata": {
        "colab": {
          "base_uri": "https://localhost:8080/"
        },
        "id": "O2nlUO9hkO3V",
        "outputId": "0f352c26-e573-4398-f0b9-424dc43034d6"
      },
      "execution_count": 6,
      "outputs": [
        {
          "output_type": "stream",
          "name": "stdout",
          "text": [
            "train_data  (8982,)\n",
            "train_labels  (8982,)\n",
            "test_data  (2246,)\n",
            "test_labels  (2246,)\n",
            "? ? ? said as a result of its december acquisition of space co it expects earnings per share in 1987 of 1 15 to 1 30 dlrs per share up from 70 cts in 1986 the company said pretax net should rise to nine to 10 mln dlrs from six mln dlrs in 1986 and rental operation revenues to 19 to 22 mln dlrs from 12 5 mln dlrs it said cash flow per share this year should be 2 50 to three dlrs reuter 3\n",
            "3\n",
            "x_train  (8982, 10000)\n",
            "x_test  (2246, 10000)\n",
            "one_hot_train_labels  (8982, 46)\n",
            "one_hot_test_labels  (2246, 46)\n",
            "x_val  (1000, 10000)\n",
            "y_val  (1000, 46)\n",
            "partial_x_train  (7982, 10000)\n",
            "partial_y_train  (7982, 46)\n"
          ]
        }
      ]
    },
    {
      "cell_type": "markdown",
      "source": [
        "Создание модели, слоёв, обучение, тестирование."
      ],
      "metadata": {
        "id": "caEYiATHlTUE"
      }
    },
    {
      "cell_type": "code",
      "source": [
        "model = models.Sequential()\n",
        "model.add(layers.Dense(1024, activity_regularizer=keras.regularizers.L2(0.01), activation='relu', input_shape=(10000,)))\n",
        "\n",
        "model.add(layers.Dense(512, activity_regularizer=keras.regularizers.L2(0.01), activation='relu'))\n",
        "model.add(layers.Dense(256, activity_regularizer=keras.regularizers.L2(0.01), activation='relu'))\n",
        "model.add(layers.Dense(256, activity_regularizer=keras.regularizers.L2(0.01), activation='relu'))\n",
        "model.add(layers.Dense(46, activity_regularizer=keras.regularizers.L2(0.01), activation='softmax'))\n",
        "\n",
        "model.summary()\n",
        "model.compile(optimizer = \"RMSprop\", loss = \"categorical_crossentropy\", metrics = [\"accuracy\"])\n",
        "results = model.evaluate(x_val, y_val)\n",
        "\n",
        "results = model.fit(partial_x_train, partial_y_train, epochs = 15, batch_size = 512, validation_data=(x_val, y_val))\n",
        "score = model.evaluate(x_val, y_val)\n",
        "print(\"Test точность: %.2f%%\" % (score[1] * 100))\n"
      ],
      "metadata": {
        "colab": {
          "base_uri": "https://localhost:8080/"
        },
        "id": "7YRRS0xFlRAg",
        "outputId": "be41203c-eca4-4c66-ca79-bbcc0416e394"
      },
      "execution_count": 8,
      "outputs": [
        {
          "output_type": "stream",
          "name": "stdout",
          "text": [
            "Model: \"sequential_5\"\n",
            "_________________________________________________________________\n",
            " Layer (type)                Output Shape              Param #   \n",
            "=================================================================\n",
            " dense_5 (Dense)             (None, 1024)              10241024  \n",
            "                                                                 \n",
            " dense_6 (Dense)             (None, 512)               524800    \n",
            "                                                                 \n",
            " dense_7 (Dense)             (None, 256)               131328    \n",
            "                                                                 \n",
            " dense_8 (Dense)             (None, 256)               65792     \n",
            "                                                                 \n",
            " dense_9 (Dense)             (None, 46)                11822     \n",
            "                                                                 \n",
            "=================================================================\n",
            "Total params: 10,974,766\n",
            "Trainable params: 10,974,766\n",
            "Non-trainable params: 0\n",
            "_________________________________________________________________\n",
            "32/32 [==============================] - 1s 23ms/step - loss: 3.9701 - accuracy: 0.0040\n",
            "Epoch 1/15\n",
            "16/16 [==============================] - 11s 608ms/step - loss: 2.8379 - accuracy: 0.4499 - val_loss: 2.1625 - val_accuracy: 0.5490\n",
            "Epoch 2/15\n",
            "16/16 [==============================] - 9s 583ms/step - loss: 1.9867 - accuracy: 0.6185 - val_loss: 1.7618 - val_accuracy: 0.6970\n",
            "Epoch 3/15\n",
            "16/16 [==============================] - 8s 505ms/step - loss: 1.5936 - accuracy: 0.7219 - val_loss: 1.5903 - val_accuracy: 0.6940\n",
            "Epoch 4/15\n",
            "16/16 [==============================] - 9s 586ms/step - loss: 1.3810 - accuracy: 0.7388 - val_loss: 1.4894 - val_accuracy: 0.7110\n",
            "Epoch 5/15\n",
            "16/16 [==============================] - 9s 579ms/step - loss: 1.1917 - accuracy: 0.7757 - val_loss: 1.4356 - val_accuracy: 0.7360\n",
            "Epoch 6/15\n",
            "16/16 [==============================] - 8s 506ms/step - loss: 1.0434 - accuracy: 0.8212 - val_loss: 1.3727 - val_accuracy: 0.7510\n",
            "Epoch 7/15\n",
            "16/16 [==============================] - 9s 567ms/step - loss: 0.9144 - accuracy: 0.8519 - val_loss: 1.3590 - val_accuracy: 0.7500\n",
            "Epoch 8/15\n",
            "16/16 [==============================] - 9s 566ms/step - loss: 0.8011 - accuracy: 0.8671 - val_loss: 1.2328 - val_accuracy: 0.7710\n",
            "Epoch 9/15\n",
            "16/16 [==============================] - 8s 513ms/step - loss: 0.7268 - accuracy: 0.8785 - val_loss: 1.1797 - val_accuracy: 0.7840\n",
            "Epoch 10/15\n",
            "16/16 [==============================] - 9s 529ms/step - loss: 0.6522 - accuracy: 0.8956 - val_loss: 1.1859 - val_accuracy: 0.7760\n",
            "Epoch 11/15\n",
            "16/16 [==============================] - 9s 584ms/step - loss: 0.5866 - accuracy: 0.9104 - val_loss: 1.1172 - val_accuracy: 0.7920\n",
            "Epoch 12/15\n",
            "16/16 [==============================] - 9s 565ms/step - loss: 0.5377 - accuracy: 0.9208 - val_loss: 1.1496 - val_accuracy: 0.7880\n",
            "Epoch 13/15\n",
            "16/16 [==============================] - 8s 507ms/step - loss: 0.4840 - accuracy: 0.9295 - val_loss: 1.0865 - val_accuracy: 0.7930\n",
            "Epoch 14/15\n",
            "16/16 [==============================] - 9s 587ms/step - loss: 0.4481 - accuracy: 0.9369 - val_loss: 1.0902 - val_accuracy: 0.7960\n",
            "Epoch 15/15\n",
            "16/16 [==============================] - 9s 565ms/step - loss: 0.4075 - accuracy: 0.9414 - val_loss: 1.0618 - val_accuracy: 0.8030\n",
            "32/32 [==============================] - 1s 22ms/step - loss: 1.0618 - accuracy: 0.8030\n",
            "Test точность: 80.30%\n"
          ]
        }
      ]
    }
  ],
  "metadata": {
    "colab": {
      "name": "Добро пожаловать в Colaboratory!",
      "toc_visible": true,
      "provenance": [],
      "include_colab_link": true
    },
    "kernelspec": {
      "display_name": "Python 3",
      "name": "python3"
    }
  },
  "nbformat": 4,
  "nbformat_minor": 0
}